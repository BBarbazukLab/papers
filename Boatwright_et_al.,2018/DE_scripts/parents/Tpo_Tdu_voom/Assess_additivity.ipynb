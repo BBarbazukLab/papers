{
 "cells": [
  {
   "cell_type": "code",
   "execution_count": 1,
   "metadata": {
    "collapsed": true
   },
   "outputs": [],
   "source": [
    "%matplotlib inline\n",
    "import pandas as pd\n",
    "import matplotlib.pyplot as plt"
   ]
  },
  {
   "cell_type": "code",
   "execution_count": 2,
   "metadata": {
    "collapsed": true
   },
   "outputs": [],
   "source": [
    "overall_fh         = \"additive_DE_overall_model_not_sig_loci.txt\"\n",
    "parents_sig_fh     = \"DE_Tdu_Tpo_sig_loci.txt\"\n",
    "parents_not_sig_fh = \"DE_Tdu_Tpo_not_sig_loci.txt\"    \n",
    "poly = [\n",
    "    \"DE_additive_Tdu_Tpo-Tm_not_sig_loci.txt\", \n",
    "    \"DE_additive_Tdu_Tpo-Tm_sig_loci.txt\"  \n",
    "]\n",
    "poly_dfs = [pd.read_csv(i, index_col=0) for i in poly]"
   ]
  },
  {
   "cell_type": "code",
   "execution_count": 3,
   "metadata": {
    "collapsed": true
   },
   "outputs": [],
   "source": [
    "def remove_overall_not_sig(df, overall_df):\n",
    "    \"\"\"Remove loci not sig diff in overall contrast\"\"\"\n",
    "    return df[~df.index.isin(overall_df.index)]"
   ]
  },
  {
   "cell_type": "code",
   "execution_count": 4,
   "metadata": {
    "collapsed": true
   },
   "outputs": [],
   "source": [
    "ov = pd.read_csv(overall_fh, index_col=0)\n",
    "par_same = pd.read_csv(parents_not_sig_fh, index_col=0)\n",
    "par_diff = pd.read_csv(parents_sig_fh, index_col=0)\n",
    "\n",
    "# Remove loci not sig diff in overall contrast\n",
    "par_same = remove_overall_not_sig(par_same, ov)\n",
    "par_diff = remove_overall_not_sig(par_diff, ov)\n",
    "par_same_set = set(par_same.index)\n",
    "par_diff_set = set(par_diff.index)\n",
    "poly_dfs = [remove_overall_not_sig(i, ov) for i in poly_dfs]"
   ]
  },
  {
   "cell_type": "code",
   "execution_count": 5,
   "metadata": {
    "collapsed": true
   },
   "outputs": [],
   "source": [
    "names = [\"Tm_not_sig\",\n",
    "         \"Tm_sig_loci\"]\n",
    "for x, i in enumerate(poly_dfs):\n",
    "    same = i[i.index.isin(par_same_set)]\n",
    "    same.to_csv(names[x] + \"_parents_same.csv\")\n",
    "    diff = i[i.index.isin(par_diff_set)]\n",
    "    diff.to_csv(names[x] + \"_parents_diff.csv\")"
   ]
  },
  {
   "cell_type": "code",
   "execution_count": null,
   "metadata": {
    "collapsed": true
   },
   "outputs": [],
   "source": []
  }
 ],
 "metadata": {
  "kernelspec": {
   "display_name": "Python 2",
   "language": "python",
   "name": "python2"
  },
  "language_info": {
   "codemirror_mode": {
    "name": "ipython",
    "version": 2
   },
   "file_extension": ".py",
   "mimetype": "text/x-python",
   "name": "python",
   "nbconvert_exporter": "python",
   "pygments_lexer": "ipython2",
   "version": "2.7.6"
  }
 },
 "nbformat": 4,
 "nbformat_minor": 0
}
